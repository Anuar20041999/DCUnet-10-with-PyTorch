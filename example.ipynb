{
  "nbformat": 4,
  "nbformat_minor": 0,
  "metadata": {
    "colab": {
      "name": "example",
      "provenance": [],
      "collapsed_sections": []
    },
    "kernelspec": {
      "name": "python3",
      "display_name": "Python 3"
    },
    "accelerator": "GPU"
  },
  "cells": [
    {
      "cell_type": "code",
      "metadata": {
        "id": "Rb8RfUQfWdtY",
        "colab_type": "code",
        "colab": {}
      },
      "source": [
        "!git clone https://github.com/Anuar20041999/DCUnet-10-with-PyTorch.git DCUnet10\n",
        "!pip install pypesq\n",
        "!pip install torchaudio"
      ],
      "execution_count": null,
      "outputs": []
    },
    {
      "cell_type": "code",
      "metadata": {
        "id": "TvlYqZXLHDyU",
        "colab_type": "code",
        "colab": {}
      },
      "source": [
        "import librosa\n",
        "import numpy as np\n",
        "from IPython.display import Audio\n",
        "import os\n",
        "import torchaudio\n",
        "import torch\n",
        "import torch.nn as nn\n",
        "import torch.optim as optim\n",
        "from torch.optim import lr_scheduler\n",
        "import time\n",
        "import copy\n",
        "\n",
        "from DCUnet10 import dataset\n",
        "from DCUnet10 import model10, train"
      ],
      "execution_count": 1,
      "outputs": []
    },
    {
      "cell_type": "code",
      "metadata": {
        "id": "UjURKwj86sAr",
        "colab_type": "code",
        "colab": {}
      },
      "source": [
        "# if using Colab\n",
        "from google.colab import drive\n",
        "drive.mount('/content/drive')"
      ],
      "execution_count": null,
      "outputs": []
    },
    {
      "cell_type": "code",
      "metadata": {
        "id": "tkJ2v-M73a0H",
        "colab_type": "code",
        "colab": {}
      },
      "source": [
        "def listdir_fullpath(d):\n",
        "    return sorted([os.path.join(d, f) for f in os.listdir(d)])\n",
        "\n",
        "# all files must be with rate==16000, and 10 sec long\n",
        "clean_path_train = 'path_to_clean_files_train'\n",
        "noisy_path_train = 'path_to_noisy_files_train'\n",
        "clean_path_val = 'path_to_clean_files_val(test)'\n",
        "noisy_path_val = 'path_to_noisy_files_val(test)'\n",
        "os.makedirs(clean_path_train, exist_ok=True)\n",
        "os.makedirs(noisy_path_train, exist_ok=True)\n",
        "os.makedirs(clean_path_val, exist_ok=True)\n",
        "os.makedirs(noisy_path_val, exist_ok=True)"
      ],
      "execution_count": 2,
      "outputs": []
    },
    {
      "cell_type": "code",
      "metadata": {
        "id": "QhMPDSTI7Nvt",
        "colab_type": "code",
        "colab": {}
      },
      "source": [
        "batch_size = 7\n",
        "# it returns dictionary of 2 dataloaders - 'train' and 'val'\n",
        "dataloaders = dataset.make_dataloaders(clean_path_train, noisy_path_train,\n",
        "                                       clean_path_val, noisy_path_val, batch_size)"
      ],
      "execution_count": 4,
      "outputs": []
    },
    {
      "cell_type": "code",
      "metadata": {
        "id": "wE45GaYLLY0y",
        "colab_type": "code",
        "colab": {}
      },
      "source": [
        "device = torch.device(\"cuda:0\" if torch.cuda.is_available() else \"cpu\")\n",
        "print(device)\n",
        "\n",
        "model = model10.ComplexUNet().to(device) # initialize model\n",
        "\n",
        "lr=5e-3\n",
        "optimizer_ft = optim.Adam(model.parameters(), lr=lr)\n",
        "\n",
        "\n",
        "step_size, gamma = 10, 0.1\n",
        "exp_lr_scheduler = lr_scheduler.StepLR(optimizer_ft, step_size=step_size, gamma=gamma)\n",
        "\n",
        "num_epochs = 25\n",
        "#start train\n",
        "model = train.train_model(model, optimizer_ft, exp_lr_scheduler, dataloaders=dataloaders, num_epochs=num_epochs, save_best=True)\n"
      ],
      "execution_count": null,
      "outputs": []
    },
    {
      "cell_type": "code",
      "metadata": {
        "id": "H1pAdWlm05uo",
        "colab_type": "code",
        "colab": {}
      },
      "source": [
        "device = torch.device(\"cuda:0\" if torch.cuda.is_available() else \"cpu\")\n",
        "print(device)\n",
        "model.eval()"
      ],
      "execution_count": null,
      "outputs": []
    },
    {
      "cell_type": "code",
      "metadata": {
        "id": "0TonESDj5sPz",
        "colab_type": "code",
        "colab": {}
      },
      "source": [
        "from pypesq import pesq\n",
        "\n",
        "#eval pesq with pypesq\n",
        "def eval_pesq(dataloader):\n",
        "    score = 0\n",
        "    for i in range(len(dataloader)):\n",
        "        clean, noised = next(iter(dataloader))\n",
        "        clean = clean.to(device)\n",
        "        noised = noised.to(device)\n",
        "        pred = model(noised)\n",
        "\n",
        "        clean = clean.cpu().numpy()\n",
        "        noised = noised.cpu().numpy()\n",
        "        pred = pred.cpu().detach().numpy()\n",
        "\n",
        "        for j, k in zip(clean, pred):\n",
        "            score += pesq(j, k, 16000)\n",
        "    score /= (batch_size*len(dataloader))\n",
        "    return score"
      ],
      "execution_count": 8,
      "outputs": []
    },
    {
      "cell_type": "code",
      "metadata": {
        "id": "n9UfECin5ek8",
        "colab_type": "code",
        "colab": {}
      },
      "source": [
        "print(eval_pesq(dataloaders['val']))"
      ],
      "execution_count": null,
      "outputs": []
    }
  ]
}